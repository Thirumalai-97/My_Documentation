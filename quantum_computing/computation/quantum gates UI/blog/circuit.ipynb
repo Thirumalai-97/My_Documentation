{
 "cells": [
  {
   "cell_type": "code",
   "execution_count": 2,
   "metadata": {},
   "outputs": [],
   "source": [
    "qubit  = QuantumRegister(2) # creating quantum register with 2 qubits\n",
    "bit = ClassicalRegister(1) # creating classical register with 1 bit for measuring the circuit\n",
    "(q0,q1) = qubit # naming qubits as q0, q1\n",
    "(c0,) = bit\n",
    "\n",
    "circuit = QuantumCircuit(qubit, bit) # creating a quantum circuit with quantum and classical registers"
   ]
  }
 ],
 "metadata": {
  "kernelspec": {
   "display_name": "qiskit",
   "language": "python",
   "name": "python3"
  },
  "language_info": {
   "codemirror_mode": {
    "name": "ipython",
    "version": 3
   },
   "file_extension": ".py",
   "mimetype": "text/x-python",
   "name": "python",
   "nbconvert_exporter": "python",
   "pygments_lexer": "ipython3",
   "version": "3.12.2"
  }
 },
 "nbformat": 4,
 "nbformat_minor": 2
}
