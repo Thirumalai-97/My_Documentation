{
 "cells": [
  {
   "cell_type": "code",
   "execution_count": 1,
   "metadata": {},
   "outputs": [],
   "source": [
    "import QuantumRingsLib\n",
    "from QuantumRingsLib import QuantumRegister, AncillaRegister, ClassicalRegister, QuantumCircuit\n",
    "from QuantumRingsLib import QuantumRingsProvider\n",
    "from QuantumRingsLib import job_monitor\n",
    "from QuantumRingsLib import JobStatus\n",
    "from matplotlib import pyplot as plt\n",
    "import numpy as np"
   ]
  },
  {
   "cell_type": "code",
   "execution_count": 2,
   "metadata": {},
   "outputs": [
    {
     "data": {
      "text/plain": [
       "{'name': 'm23iqt008@iitj.ac.in',\n",
       " 'token': 'rings-200.cfGvWMxnqvm3Mhbp2ta78Xyls2C1NUHi',\n",
       " 'max_qubits': '200'}"
      ]
     },
     "execution_count": 2,
     "metadata": {},
     "output_type": "execute_result"
    }
   ],
   "source": [
    "  \n",
    "provider = QuantumRingsProvider(token ='rings-200.cfGvWMxnqvm3Mhbp2ta78Xyls2C1NUHi', name='m23iqt008@iitj.ac.in')\n",
    "backend = provider.get_backend(\"scarlet_quantum_rings\")\n",
    "numberofqubits = 5\n",
    "shots = 100\n",
    "\n",
    "provider.active_account()"
   ]
  },
  {
   "cell_type": "code",
   "execution_count": 5,
   "metadata": {},
   "outputs": [],
   "source": [
    "q = QuantumRegister(numberofqubits , 'q')\n",
    "c = ClassicalRegister(numberofqubits , 'c')\n",
    "qc = QuantumCircuit(q, c)\n",
    "\n",
    "\n",
    "qc.h(0);\n",
    "for i in range (qc.num_qubits - 1):\n",
    "    qc.cnot(i, i + 1);\n",
    "\n",
    "qc.measure_all();\n"
   ]
  },
  {
   "cell_type": "code",
   "execution_count": 6,
   "metadata": {},
   "outputs": [
    {
     "ename": "TypeError",
     "evalue": "run(): incompatible function arguments. The following argument types are supported:\n    1. (self: QuantumRingsLib.BackendV2, arg0: QuantumCircuit, **kwargs) -> QuantumRingsLib.JobV1\n\nInvoked with: Backend(backend_name = scarlet_quantum_rings,backend_version = 0.9.0,online_date = 9/12/2023,num_qubits = 200),        ┌───┐                    ┌───┐                     \nq[0]: ■┤ H ├──■─────────────────┤ M ├──────────────────── \n       └───┘┌─┴─┐               └─╥─┘┌───┐                \nq[1]: ■─────┤ X ├──■──────────────║──┤ M ├─────────────── \n            └───┘┌─┴─┐            ║  └─╥─┘┌───┐           \nq[2]: ■──────────┤ X ├──■─────────║────║──┤ M ├────────── \n                 └───┘┌─┴─┐       ║    ║  └─╥─┘┌───┐      \nq[3]: ■───────────────┤ X ├──■────║────║────║──┤ M ├───── \n                      └───┘┌─┴─┐  ║    ║    ║  └─╥─┘┌───┐ \nq[4]: ■────────────────────┤ X ├──║────║────║────║──┤ M ├ \n                           └───┘  ║    ║    ║    ║  └─╥─┘ \nc: 5/ ■═══════════════════════════╩════╩════╩════╩════╩══ \n                                  0    1    2    3    4   \n, 100",
     "output_type": "error",
     "traceback": [
      "\u001b[0;31m---------------------------------------------------------------------------\u001b[0m",
      "\u001b[0;31mTypeError\u001b[0m                                 Traceback (most recent call last)",
      "Cell \u001b[0;32mIn[6], line 1\u001b[0m\n\u001b[0;32m----> 1\u001b[0m job \u001b[38;5;241m=\u001b[39m \u001b[43mbackend\u001b[49m\u001b[38;5;241;43m.\u001b[39;49m\u001b[43mrun\u001b[49m\u001b[43m(\u001b[49m\u001b[43mqc\u001b[49m\u001b[43m,\u001b[49m\u001b[43m \u001b[49m\u001b[43mshots\u001b[49m\u001b[43m)\u001b[49m\n\u001b[1;32m      2\u001b[0m job_monitor(job)\n",
      "\u001b[0;31mTypeError\u001b[0m: run(): incompatible function arguments. The following argument types are supported:\n    1. (self: QuantumRingsLib.BackendV2, arg0: QuantumCircuit, **kwargs) -> QuantumRingsLib.JobV1\n\nInvoked with: Backend(backend_name = scarlet_quantum_rings,backend_version = 0.9.0,online_date = 9/12/2023,num_qubits = 200),        ┌───┐                    ┌───┐                     \nq[0]: ■┤ H ├──■─────────────────┤ M ├──────────────────── \n       └───┘┌─┴─┐               └─╥─┘┌───┐                \nq[1]: ■─────┤ X ├──■──────────────║──┤ M ├─────────────── \n            └───┘┌─┴─┐            ║  └─╥─┘┌───┐           \nq[2]: ■──────────┤ X ├──■─────────║────║──┤ M ├────────── \n                 └───┘┌─┴─┐       ║    ║  └─╥─┘┌───┐      \nq[3]: ■───────────────┤ X ├──■────║────║────║──┤ M ├───── \n                      └───┘┌─┴─┐  ║    ║    ║  └─╥─┘┌───┐ \nq[4]: ■────────────────────┤ X ├──║────║────║────║──┤ M ├ \n                           └───┘  ║    ║    ║    ║  └─╥─┘ \nc: 5/ ■═══════════════════════════╩════╩════╩════╩════╩══ \n                                  0    1    2    3    4   \n, 100"
     ]
    }
   ],
   "source": [
    "job = backend.run(qc, shots)\n",
    "job_monitor(job)\n",
    "\n"
   ]
  },
  {
   "cell_type": "code",
   "execution_count": null,
   "metadata": {},
   "outputs": [],
   "source": [
    "result = job.result()\n",
    "counts = result.get_counts()"
   ]
  },
  {
   "cell_type": "code",
   "execution_count": 4,
   "metadata": {},
   "outputs": [
    {
     "ename": "NameError",
     "evalue": "name 'counts' is not defined",
     "output_type": "error",
     "traceback": [
      "\u001b[0;31m---------------------------------------------------------------------------\u001b[0m",
      "\u001b[0;31mNameError\u001b[0m                                 Traceback (most recent call last)",
      "Cell \u001b[0;32mIn[4], line 4\u001b[0m\n\u001b[1;32m      2\u001b[0m plt\u001b[38;5;241m.\u001b[39mxlabel(\u001b[38;5;124m\"\u001b[39m\u001b[38;5;124mStates\u001b[39m\u001b[38;5;124m\"\u001b[39m)\n\u001b[1;32m      3\u001b[0m plt\u001b[38;5;241m.\u001b[39mylabel(\u001b[38;5;124m\"\u001b[39m\u001b[38;5;124mCounts\u001b[39m\u001b[38;5;124m\"\u001b[39m)\n\u001b[0;32m----> 4\u001b[0m mylist \u001b[38;5;241m=\u001b[39m [key \u001b[38;5;28;01mfor\u001b[39;00m key, val \u001b[38;5;129;01min\u001b[39;00m \u001b[43mcounts\u001b[49m\u001b[38;5;241m.\u001b[39mitems() \u001b[38;5;28;01mfor\u001b[39;00m _ \u001b[38;5;129;01min\u001b[39;00m \u001b[38;5;28mrange\u001b[39m(val)]\n\u001b[1;32m      5\u001b[0m unique, inverse \u001b[38;5;241m=\u001b[39m np\u001b[38;5;241m.\u001b[39munique(mylist, return_inverse\u001b[38;5;241m=\u001b[39m\u001b[38;5;28;01mTrue\u001b[39;00m)\n\u001b[1;32m      6\u001b[0m bin_counts \u001b[38;5;241m=\u001b[39m np\u001b[38;5;241m.\u001b[39mbincount(inverse)\n",
      "\u001b[0;31mNameError\u001b[0m: name 'counts' is not defined"
     ]
    },
    {
     "data": {
      "image/png": "[encoded data removed]",
      "text/plain": [
       "<Figure size 1000x700 with 1 Axes>"
      ]
     },
     "metadata": {},
     "output_type": "display_data"
    }
   ],
   "source": [
    "fig, ax = plt.subplots(figsize =(10, 7))\n",
    "plt.xlabel(\"States\")\n",
    "plt.ylabel(\"Counts\")\n",
    "mylist = [key for key, val in counts.items() for _ in range(val)]\n",
    "unique, inverse = np.unique(mylist, return_inverse=True)\n",
    "bin_counts = np.bincount(inverse)\n",
    "plt.bar(unique, bin_counts)\n",
    "maxFreq = max(counts.values())\n",
    "plt.ylim(ymax=np.ceil(maxFreq / 10) * 10 if maxFreq % 10 else maxFreq + 10)\n",
    "# Show plot\n",
    "plt.show()"
   ]
  }
 ],
 "metadata": {
  "kernelspec": {
   "display_name": "cirqq",
   "language": "python",
   "name": "python3"
  },
  "language_info": {
   "codemirror_mode": {
    "name": "ipython",
    "version": 3
   },
   "file_extension": ".py",
   "mimetype": "text/x-python",
   "name": "python",
   "nbconvert_exporter": "python",
   "pygments_lexer": "ipython3",
   "version": "3.13.0"
  }
 },
 "nbformat": 4,
 "nbformat_minor": 2
}
